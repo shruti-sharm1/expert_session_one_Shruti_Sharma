{
 "cells": [
  {
   "cell_type": "markdown",
   "metadata": {},
   "source": [
    "# Zomato (Bangalore) Dataset"
   ]
  },
  {
   "cell_type": "markdown",
   "metadata": {},
   "source": [
    "## Data Preparation"
   ]
  },
  {
   "cell_type": "code",
   "execution_count": 21,
   "metadata": {},
   "outputs": [],
   "source": [
    "# Importing Libraries\n",
    "\n",
    "import numpy as np \n",
    "import pandas as pd\n",
    "import matplotlib.pyplot as plt \n",
    "import seaborn as sns \n",
    "import warnings\n",
    "warnings.filterwarnings(\"ignore\")"
   ]
  },
  {
   "cell_type": "code",
   "execution_count": 22,
   "metadata": {},
   "outputs": [
    {
     "data": {
      "text/html": [
       "<div>\n",
       "<style scoped>\n",
       "    .dataframe tbody tr th:only-of-type {\n",
       "        vertical-align: middle;\n",
       "    }\n",
       "\n",
       "    .dataframe tbody tr th {\n",
       "        vertical-align: top;\n",
       "    }\n",
       "\n",
       "    .dataframe thead th {\n",
       "        text-align: right;\n",
       "    }\n",
       "</style>\n",
       "<table border=\"1\" class=\"dataframe\">\n",
       "  <thead>\n",
       "    <tr style=\"text-align: right;\">\n",
       "      <th></th>\n",
       "      <th>name</th>\n",
       "      <th>online_order</th>\n",
       "      <th>book_table</th>\n",
       "      <th>rate</th>\n",
       "      <th>phone</th>\n",
       "      <th>rest_type</th>\n",
       "      <th>dish_liked</th>\n",
       "      <th>listed_in(city)</th>\n",
       "    </tr>\n",
       "  </thead>\n",
       "  <tbody>\n",
       "    <tr>\n",
       "      <th>0</th>\n",
       "      <td>Jalsa</td>\n",
       "      <td>Yes</td>\n",
       "      <td>Yes</td>\n",
       "      <td>4.1/5</td>\n",
       "      <td>080 42297555\\r\\n+91 9743772233</td>\n",
       "      <td>Casual Dining</td>\n",
       "      <td>Pasta, Lunch Buffet, Masala Papad, Paneer Laja...</td>\n",
       "      <td>Banashankari</td>\n",
       "    </tr>\n",
       "    <tr>\n",
       "      <th>1</th>\n",
       "      <td>Spice Elephant</td>\n",
       "      <td>Yes</td>\n",
       "      <td>No</td>\n",
       "      <td>4.1/5</td>\n",
       "      <td>080 41714161</td>\n",
       "      <td>Casual Dining</td>\n",
       "      <td>Momos, Lunch Buffet, Chocolate Nirvana, Thai G...</td>\n",
       "      <td>Banashankari</td>\n",
       "    </tr>\n",
       "    <tr>\n",
       "      <th>2</th>\n",
       "      <td>San Churro Cafe</td>\n",
       "      <td>Yes</td>\n",
       "      <td>No</td>\n",
       "      <td>3.8/5</td>\n",
       "      <td>+91 9663487993</td>\n",
       "      <td>Cafe, Casual Dining</td>\n",
       "      <td>Churros, Cannelloni, Minestrone Soup, Hot Choc...</td>\n",
       "      <td>Banashankari</td>\n",
       "    </tr>\n",
       "    <tr>\n",
       "      <th>3</th>\n",
       "      <td>Addhuri Udupi Bhojana</td>\n",
       "      <td>No</td>\n",
       "      <td>No</td>\n",
       "      <td>3.7/5</td>\n",
       "      <td>+91 9620009302</td>\n",
       "      <td>Quick Bites</td>\n",
       "      <td>Masala Dosa</td>\n",
       "      <td>Banashankari</td>\n",
       "    </tr>\n",
       "    <tr>\n",
       "      <th>4</th>\n",
       "      <td>Grand Village</td>\n",
       "      <td>No</td>\n",
       "      <td>No</td>\n",
       "      <td>3.8/5</td>\n",
       "      <td>+91 8026612447\\r\\n+91 9901210005</td>\n",
       "      <td>Casual Dining</td>\n",
       "      <td>Panipuri, Gol Gappe</td>\n",
       "      <td>Banashankari</td>\n",
       "    </tr>\n",
       "  </tbody>\n",
       "</table>\n",
       "</div>"
      ],
      "text/plain": [
       "                    name online_order book_table   rate  \\\n",
       "0                  Jalsa          Yes        Yes  4.1/5   \n",
       "1         Spice Elephant          Yes         No  4.1/5   \n",
       "2        San Churro Cafe          Yes         No  3.8/5   \n",
       "3  Addhuri Udupi Bhojana           No         No  3.7/5   \n",
       "4          Grand Village           No         No  3.8/5   \n",
       "\n",
       "                              phone            rest_type  \\\n",
       "0    080 42297555\\r\\n+91 9743772233        Casual Dining   \n",
       "1                      080 41714161        Casual Dining   \n",
       "2                    +91 9663487993  Cafe, Casual Dining   \n",
       "3                    +91 9620009302          Quick Bites   \n",
       "4  +91 8026612447\\r\\n+91 9901210005        Casual Dining   \n",
       "\n",
       "                                          dish_liked listed_in(city)  \n",
       "0  Pasta, Lunch Buffet, Masala Papad, Paneer Laja...    Banashankari  \n",
       "1  Momos, Lunch Buffet, Chocolate Nirvana, Thai G...    Banashankari  \n",
       "2  Churros, Cannelloni, Minestrone Soup, Hot Choc...    Banashankari  \n",
       "3                                        Masala Dosa    Banashankari  \n",
       "4                                Panipuri, Gol Gappe    Banashankari  "
      ]
     },
     "execution_count": 22,
     "metadata": {},
     "output_type": "execute_result"
    }
   ],
   "source": [
    "# Reading the dataset\n",
    "zomato=pd.read_csv(\"zomato_12.csv\",index_col=False)\n",
    "zomato.drop(zomato.columns[zomato.columns.str.contains('unnamed',case = False)],axis = 1, inplace = True)\n",
    "zomato.head() #This function returns the first n rows for the object based on position."
   ]
  },
  {
   "cell_type": "code",
   "execution_count": 23,
   "metadata": {},
   "outputs": [
    {
     "name": "stdout",
     "output_type": "stream",
     "text": [
      "Total Number of duplicated rows : 2\n",
      "After Deleting, total number of duplicated rows : 0\n"
     ]
    }
   ],
   "source": [
    "# Finding the total number of Duplicate rows\n",
    "print('Total Number of duplicated rows :',zomato.duplicated().sum())\n",
    "\n",
    "# Dropping the duplicated rows\n",
    "zomato.drop_duplicates(inplace=True)\n",
    "\n",
    "# Checking if all the duplicated rows are deleted\n",
    "print('After Deleting, total number of duplicated rows :',zomato.duplicated().sum())"
   ]
  },
  {
   "cell_type": "code",
   "execution_count": 24,
   "metadata": {},
   "outputs": [
    {
     "name": "stdout",
     "output_type": "stream",
     "text": [
      "name                1\n",
      "online_order        0\n",
      "book_table          0\n",
      "rate                0\n",
      "phone              13\n",
      "rest_type           0\n",
      "dish_liked          0\n",
      "listed_in(city)     0\n",
      "dtype: int64\n",
      "name               0\n",
      "online_order       0\n",
      "book_table         0\n",
      "rate               0\n",
      "phone              0\n",
      "rest_type          0\n",
      "dish_liked         0\n",
      "listed_in(city)    0\n",
      "dtype: int64\n"
     ]
    }
   ],
   "source": [
    "# Finding the total NaN values of each column of the dataset\n",
    "print(zomato.isnull().sum())\n",
    "\n",
    "# Dropping the NaN values\n",
    "zomato.dropna(inplace=True)\n",
    "\n",
    "# Checking if all the NaN values are deleted\n",
    "print(zomato.isnull().sum())"
   ]
  },
  {
   "cell_type": "code",
   "execution_count": 25,
   "metadata": {},
   "outputs": [
    {
     "name": "stdout",
     "output_type": "stream",
     "text": [
      "Index(['name', 'online_order', 'book_table', 'rate', 'phone', 'rest_type',\n",
      "       'dish_liked', 'listed_in(city)'],\n",
      "      dtype='object')\n",
      "Index(['name', 'online_order', 'book_table', 'rate', 'phone', 'rest_type',\n",
      "       'dish_liked', 'city'],\n",
      "      dtype='object')\n"
     ]
    }
   ],
   "source": [
    "# Changing the Columns Names\n",
    "print(zomato.columns)\n",
    "zomato = zomato.rename(columns={'listed_in(city)':'city'})\n",
    "print(zomato.columns)"
   ]
  },
  {
   "cell_type": "code",
   "execution_count": 26,
   "metadata": {},
   "outputs": [
    {
     "name": "stdout",
     "output_type": "stream",
     "text": [
      "['4.1/5' '3.8/5' '3.7/5' '4.6/5' '4.2/5' '4.0/5' '3.9/5' '3.0/5' '4.7/5'\n",
      " '4.3/5' '3.4/5' 'NEW' '3.6/5' '2.7/5' '3.2/5' '2.9/5' '3.3/5' '4.4/5'\n",
      " '4.8/5' '3.8 /5' '4.1 /5' '4.2 /5' '4.3 /5' '3.9 /5' '3.5/5' '2.8/5'\n",
      " '2.4/5' '2.6/5' '3.1/5' '2.3/5' '4.5/5' '3.7 /5' '3.3 /5' '4.0 /5'\n",
      " '4.4 /5' '2.8 /5' '2.9 /5' '2.6 /5' '3.5 /5' '3.6 /5' '4.7 /5' '4.5 /5'\n",
      " '3.1 /5' '2.0 /5' '2.5 /5']\n"
     ]
    },
    {
     "data": {
      "text/plain": [
       "0    4.1\n",
       "1    4.1\n",
       "2    3.8\n",
       "3    3.7\n",
       "4    3.8\n",
       "Name: rate, dtype: float64"
      ]
     },
     "execution_count": 26,
     "metadata": {},
     "output_type": "execute_result"
    }
   ],
   "source": [
    "# Removing 'NEW' and '-' from Rates\n",
    "print(zomato['rate'].unique())\n",
    "zomato = zomato.loc[zomato.rate !='NEW']\n",
    "zomato = zomato.loc[zomato.rate !='-'].reset_index(drop=True)\n",
    "# Replacing '/5' from rates\n",
    "zomato['rate'] = [rate.replace('/5', '') for rate in zomato.rate]\n",
    "zomato['rate'] = [float(rate) for rate in zomato.rate]\n",
    "zomato['rate'].head()"
   ]
  },
  {
   "cell_type": "code",
   "execution_count": 29,
   "metadata": {},
   "outputs": [
    {
     "data": {
      "text/html": [
       "<div>\n",
       "<style scoped>\n",
       "    .dataframe tbody tr th:only-of-type {\n",
       "        vertical-align: middle;\n",
       "    }\n",
       "\n",
       "    .dataframe tbody tr th {\n",
       "        vertical-align: top;\n",
       "    }\n",
       "\n",
       "    .dataframe thead th {\n",
       "        text-align: right;\n",
       "    }\n",
       "</style>\n",
       "<table border=\"1\" class=\"dataframe\">\n",
       "  <thead>\n",
       "    <tr style=\"text-align: right;\">\n",
       "      <th></th>\n",
       "      <th>name</th>\n",
       "      <th>online_order</th>\n",
       "      <th>book_table</th>\n",
       "      <th>rate</th>\n",
       "      <th>phone</th>\n",
       "      <th>rest_type</th>\n",
       "      <th>dish_liked</th>\n",
       "      <th>city</th>\n",
       "    </tr>\n",
       "  </thead>\n",
       "  <tbody>\n",
       "    <tr>\n",
       "      <th>0</th>\n",
       "      <td>Jalsa</td>\n",
       "      <td>Yes</td>\n",
       "      <td>Yes</td>\n",
       "      <td>4.1</td>\n",
       "      <td>080 42297555, +91 9743772233</td>\n",
       "      <td>Casual Dining</td>\n",
       "      <td>Pasta, Lunch Buffet, Masala Papad, Paneer Laja...</td>\n",
       "      <td>Banashankari</td>\n",
       "    </tr>\n",
       "    <tr>\n",
       "      <th>1</th>\n",
       "      <td>Spice Elephant</td>\n",
       "      <td>Yes</td>\n",
       "      <td>No</td>\n",
       "      <td>4.1</td>\n",
       "      <td>080 41714161</td>\n",
       "      <td>Casual Dining</td>\n",
       "      <td>Momos, Lunch Buffet, Chocolate Nirvana, Thai G...</td>\n",
       "      <td>Banashankari</td>\n",
       "    </tr>\n",
       "    <tr>\n",
       "      <th>2</th>\n",
       "      <td>San Churro Cafe</td>\n",
       "      <td>Yes</td>\n",
       "      <td>No</td>\n",
       "      <td>3.8</td>\n",
       "      <td>+91 9663487993</td>\n",
       "      <td>Cafe, Casual Dining</td>\n",
       "      <td>Churros, Cannelloni, Minestrone Soup, Hot Choc...</td>\n",
       "      <td>Banashankari</td>\n",
       "    </tr>\n",
       "    <tr>\n",
       "      <th>3</th>\n",
       "      <td>Addhuri Udupi Bhojana</td>\n",
       "      <td>No</td>\n",
       "      <td>No</td>\n",
       "      <td>3.7</td>\n",
       "      <td>+91 9620009302</td>\n",
       "      <td>Quick Bites</td>\n",
       "      <td>Masala Dosa</td>\n",
       "      <td>Banashankari</td>\n",
       "    </tr>\n",
       "    <tr>\n",
       "      <th>4</th>\n",
       "      <td>Grand Village</td>\n",
       "      <td>No</td>\n",
       "      <td>No</td>\n",
       "      <td>3.8</td>\n",
       "      <td>+91 8026612447, +91 9901210005</td>\n",
       "      <td>Casual Dining</td>\n",
       "      <td>Panipuri, Gol Gappe</td>\n",
       "      <td>Banashankari</td>\n",
       "    </tr>\n",
       "    <tr>\n",
       "      <th>...</th>\n",
       "      <td>...</td>\n",
       "      <td>...</td>\n",
       "      <td>...</td>\n",
       "      <td>...</td>\n",
       "      <td>...</td>\n",
       "      <td>...</td>\n",
       "      <td>...</td>\n",
       "      <td>...</td>\n",
       "    </tr>\n",
       "    <tr>\n",
       "      <th>464</th>\n",
       "      <td>Smaaash</td>\n",
       "      <td>Yes</td>\n",
       "      <td>Yes</td>\n",
       "      <td>3.8</td>\n",
       "      <td>+91 7625087121, +91 8050587483</td>\n",
       "      <td>Bar, Casual Dining</td>\n",
       "      <td>Beer, Chicken Guntur, Paneer Tikka, Fish, Nood...</td>\n",
       "      <td>Whitefield</td>\n",
       "    </tr>\n",
       "    <tr>\n",
       "      <th>465</th>\n",
       "      <td>Red Glow</td>\n",
       "      <td>No</td>\n",
       "      <td>No</td>\n",
       "      <td>3.9</td>\n",
       "      <td>080 49435000</td>\n",
       "      <td>Fine Dining, Bar</td>\n",
       "      <td>Rooftop Ambience</td>\n",
       "      <td>Whitefield</td>\n",
       "    </tr>\n",
       "    <tr>\n",
       "      <th>466</th>\n",
       "      <td>M Bar - Bengaluru Marriott Hotel Whitefield</td>\n",
       "      <td>No</td>\n",
       "      <td>No</td>\n",
       "      <td>2.8</td>\n",
       "      <td>080 39451000, +91 8884038484</td>\n",
       "      <td>Casual Dining, Bar</td>\n",
       "      <td>Salads, Coffee, Breakfast Buffet, Halwa, Chick...</td>\n",
       "      <td>Whitefield</td>\n",
       "    </tr>\n",
       "    <tr>\n",
       "      <th>467</th>\n",
       "      <td>Topsy Turvey</td>\n",
       "      <td>No</td>\n",
       "      <td>No</td>\n",
       "      <td>2.5</td>\n",
       "      <td>080 65951222</td>\n",
       "      <td>Casual Dining, Bar</td>\n",
       "      <td>Biryani, Andhra Meal</td>\n",
       "      <td>Whitefield</td>\n",
       "    </tr>\n",
       "    <tr>\n",
       "      <th>468</th>\n",
       "      <td>Plunge - Sheraton Grand Bengaluru Whitefield H...</td>\n",
       "      <td>No</td>\n",
       "      <td>Yes</td>\n",
       "      <td>4.3</td>\n",
       "      <td>080 49652769</td>\n",
       "      <td>Bar</td>\n",
       "      <td>Cocktails, Pizza, Buttermilk</td>\n",
       "      <td>Whitefield</td>\n",
       "    </tr>\n",
       "  </tbody>\n",
       "</table>\n",
       "<p>469 rows × 8 columns</p>\n",
       "</div>"
      ],
      "text/plain": [
       "                                                  name online_order  \\\n",
       "0                                                Jalsa          Yes   \n",
       "1                                       Spice Elephant          Yes   \n",
       "2                                      San Churro Cafe          Yes   \n",
       "3                                Addhuri Udupi Bhojana           No   \n",
       "4                                        Grand Village           No   \n",
       "..                                                 ...          ...   \n",
       "464                                            Smaaash          Yes   \n",
       "465                                           Red Glow           No   \n",
       "466        M Bar - Bengaluru Marriott Hotel Whitefield           No   \n",
       "467                                       Topsy Turvey           No   \n",
       "468  Plunge - Sheraton Grand Bengaluru Whitefield H...           No   \n",
       "\n",
       "    book_table  rate                           phone            rest_type  \\\n",
       "0          Yes   4.1    080 42297555, +91 9743772233        Casual Dining   \n",
       "1           No   4.1                    080 41714161        Casual Dining   \n",
       "2           No   3.8                  +91 9663487993  Cafe, Casual Dining   \n",
       "3           No   3.7                  +91 9620009302          Quick Bites   \n",
       "4           No   3.8  +91 8026612447, +91 9901210005        Casual Dining   \n",
       "..         ...   ...                             ...                  ...   \n",
       "464        Yes   3.8  +91 7625087121, +91 8050587483   Bar, Casual Dining   \n",
       "465         No   3.9                    080 49435000     Fine Dining, Bar   \n",
       "466         No   2.8    080 39451000, +91 8884038484   Casual Dining, Bar   \n",
       "467         No   2.5                    080 65951222   Casual Dining, Bar   \n",
       "468        Yes   4.3                    080 49652769                  Bar   \n",
       "\n",
       "                                            dish_liked          city  \n",
       "0    Pasta, Lunch Buffet, Masala Papad, Paneer Laja...  Banashankari  \n",
       "1    Momos, Lunch Buffet, Chocolate Nirvana, Thai G...  Banashankari  \n",
       "2    Churros, Cannelloni, Minestrone Soup, Hot Choc...  Banashankari  \n",
       "3                                          Masala Dosa  Banashankari  \n",
       "4                                  Panipuri, Gol Gappe  Banashankari  \n",
       "..                                                 ...           ...  \n",
       "464  Beer, Chicken Guntur, Paneer Tikka, Fish, Nood...    Whitefield  \n",
       "465                                   Rooftop Ambience    Whitefield  \n",
       "466  Salads, Coffee, Breakfast Buffet, Halwa, Chick...    Whitefield  \n",
       "467                               Biryani, Andhra Meal    Whitefield  \n",
       "468                       Cocktails, Pizza, Buttermilk    Whitefield  \n",
       "\n",
       "[469 rows x 8 columns]"
      ]
     },
     "execution_count": 29,
     "metadata": {},
     "output_type": "execute_result"
    }
   ],
   "source": [
    "# Removing the whitespace characters in Phone column\n",
    "phone = zomato.phone\n",
    "phone = [str(i).replace(\"\\r\",\"\") for i in phone]\n",
    "phone = [i.replace(\"\\n\",\", \") for i in phone]\n",
    "zomato.phone = phone\n",
    "zomato"
   ]
  },
  {
   "cell_type": "code",
   "execution_count": 30,
   "metadata": {},
   "outputs": [],
   "source": [
    "# Adjust the columns\n",
    "zomato.name = zomato.name.apply(lambda x:x.title())\n",
    "zomato.online_order.replace(('Yes','No'),(True, False),inplace=True)\n",
    "zomato.book_table.replace(('Yes','No'),(True, False),inplace=True)"
   ]
  },
  {
   "cell_type": "code",
   "execution_count": 31,
   "metadata": {},
   "outputs": [
    {
     "data": {
      "text/html": [
       "<div>\n",
       "<style scoped>\n",
       "    .dataframe tbody tr th:only-of-type {\n",
       "        vertical-align: middle;\n",
       "    }\n",
       "\n",
       "    .dataframe tbody tr th {\n",
       "        vertical-align: top;\n",
       "    }\n",
       "\n",
       "    .dataframe thead th {\n",
       "        text-align: right;\n",
       "    }\n",
       "</style>\n",
       "<table border=\"1\" class=\"dataframe\">\n",
       "  <thead>\n",
       "    <tr style=\"text-align: right;\">\n",
       "      <th></th>\n",
       "      <th>name</th>\n",
       "      <th>online_order</th>\n",
       "      <th>book_table</th>\n",
       "      <th>rate</th>\n",
       "      <th>phone</th>\n",
       "      <th>rest_type</th>\n",
       "      <th>dish_liked</th>\n",
       "      <th>city</th>\n",
       "    </tr>\n",
       "  </thead>\n",
       "  <tbody>\n",
       "    <tr>\n",
       "      <th>0</th>\n",
       "      <td>Jalsa</td>\n",
       "      <td>True</td>\n",
       "      <td>True</td>\n",
       "      <td>4.1</td>\n",
       "      <td>080 42297555, +91 9743772233</td>\n",
       "      <td>Casual Dining</td>\n",
       "      <td>Pasta, Lunch Buffet, Masala Papad, Paneer Laja...</td>\n",
       "      <td>Banashankari</td>\n",
       "    </tr>\n",
       "    <tr>\n",
       "      <th>1</th>\n",
       "      <td>Spice Elephant</td>\n",
       "      <td>True</td>\n",
       "      <td>False</td>\n",
       "      <td>4.1</td>\n",
       "      <td>080 41714161</td>\n",
       "      <td>Casual Dining</td>\n",
       "      <td>Momos, Lunch Buffet, Chocolate Nirvana, Thai G...</td>\n",
       "      <td>Banashankari</td>\n",
       "    </tr>\n",
       "    <tr>\n",
       "      <th>2</th>\n",
       "      <td>San Churro Cafe</td>\n",
       "      <td>True</td>\n",
       "      <td>False</td>\n",
       "      <td>3.8</td>\n",
       "      <td>+91 9663487993</td>\n",
       "      <td>Cafe, Casual Dining</td>\n",
       "      <td>Churros, Cannelloni, Minestrone Soup, Hot Choc...</td>\n",
       "      <td>Banashankari</td>\n",
       "    </tr>\n",
       "    <tr>\n",
       "      <th>3</th>\n",
       "      <td>Addhuri Udupi Bhojana</td>\n",
       "      <td>False</td>\n",
       "      <td>False</td>\n",
       "      <td>3.7</td>\n",
       "      <td>+91 9620009302</td>\n",
       "      <td>Quick Bites</td>\n",
       "      <td>Masala Dosa</td>\n",
       "      <td>Banashankari</td>\n",
       "    </tr>\n",
       "    <tr>\n",
       "      <th>4</th>\n",
       "      <td>Grand Village</td>\n",
       "      <td>False</td>\n",
       "      <td>False</td>\n",
       "      <td>3.8</td>\n",
       "      <td>+91 8026612447, +91 9901210005</td>\n",
       "      <td>Casual Dining</td>\n",
       "      <td>Panipuri, Gol Gappe</td>\n",
       "      <td>Banashankari</td>\n",
       "    </tr>\n",
       "    <tr>\n",
       "      <th>...</th>\n",
       "      <td>...</td>\n",
       "      <td>...</td>\n",
       "      <td>...</td>\n",
       "      <td>...</td>\n",
       "      <td>...</td>\n",
       "      <td>...</td>\n",
       "      <td>...</td>\n",
       "      <td>...</td>\n",
       "    </tr>\n",
       "    <tr>\n",
       "      <th>464</th>\n",
       "      <td>Smaaash</td>\n",
       "      <td>True</td>\n",
       "      <td>True</td>\n",
       "      <td>3.8</td>\n",
       "      <td>+91 7625087121, +91 8050587483</td>\n",
       "      <td>Bar, Casual Dining</td>\n",
       "      <td>Beer, Chicken Guntur, Paneer Tikka, Fish, Nood...</td>\n",
       "      <td>Whitefield</td>\n",
       "    </tr>\n",
       "    <tr>\n",
       "      <th>465</th>\n",
       "      <td>Red Glow</td>\n",
       "      <td>False</td>\n",
       "      <td>False</td>\n",
       "      <td>3.9</td>\n",
       "      <td>080 49435000</td>\n",
       "      <td>Fine Dining, Bar</td>\n",
       "      <td>Rooftop Ambience</td>\n",
       "      <td>Whitefield</td>\n",
       "    </tr>\n",
       "    <tr>\n",
       "      <th>466</th>\n",
       "      <td>M Bar - Bengaluru Marriott Hotel Whitefield</td>\n",
       "      <td>False</td>\n",
       "      <td>False</td>\n",
       "      <td>2.8</td>\n",
       "      <td>080 39451000, +91 8884038484</td>\n",
       "      <td>Casual Dining, Bar</td>\n",
       "      <td>Salads, Coffee, Breakfast Buffet, Halwa, Chick...</td>\n",
       "      <td>Whitefield</td>\n",
       "    </tr>\n",
       "    <tr>\n",
       "      <th>467</th>\n",
       "      <td>Topsy Turvey</td>\n",
       "      <td>False</td>\n",
       "      <td>False</td>\n",
       "      <td>2.5</td>\n",
       "      <td>080 65951222</td>\n",
       "      <td>Casual Dining, Bar</td>\n",
       "      <td>Biryani, Andhra Meal</td>\n",
       "      <td>Whitefield</td>\n",
       "    </tr>\n",
       "    <tr>\n",
       "      <th>468</th>\n",
       "      <td>Plunge - Sheraton Grand Bengaluru Whitefield H...</td>\n",
       "      <td>False</td>\n",
       "      <td>True</td>\n",
       "      <td>4.3</td>\n",
       "      <td>080 49652769</td>\n",
       "      <td>Bar</td>\n",
       "      <td>Cocktails, Pizza, Buttermilk</td>\n",
       "      <td>Whitefield</td>\n",
       "    </tr>\n",
       "  </tbody>\n",
       "</table>\n",
       "<p>469 rows × 8 columns</p>\n",
       "</div>"
      ],
      "text/plain": [
       "                                                  name  online_order  \\\n",
       "0                                                Jalsa          True   \n",
       "1                                       Spice Elephant          True   \n",
       "2                                      San Churro Cafe          True   \n",
       "3                                Addhuri Udupi Bhojana         False   \n",
       "4                                        Grand Village         False   \n",
       "..                                                 ...           ...   \n",
       "464                                            Smaaash          True   \n",
       "465                                           Red Glow         False   \n",
       "466        M Bar - Bengaluru Marriott Hotel Whitefield         False   \n",
       "467                                       Topsy Turvey         False   \n",
       "468  Plunge - Sheraton Grand Bengaluru Whitefield H...         False   \n",
       "\n",
       "     book_table  rate                           phone            rest_type  \\\n",
       "0          True   4.1    080 42297555, +91 9743772233        Casual Dining   \n",
       "1         False   4.1                    080 41714161        Casual Dining   \n",
       "2         False   3.8                  +91 9663487993  Cafe, Casual Dining   \n",
       "3         False   3.7                  +91 9620009302          Quick Bites   \n",
       "4         False   3.8  +91 8026612447, +91 9901210005        Casual Dining   \n",
       "..          ...   ...                             ...                  ...   \n",
       "464        True   3.8  +91 7625087121, +91 8050587483   Bar, Casual Dining   \n",
       "465       False   3.9                    080 49435000     Fine Dining, Bar   \n",
       "466       False   2.8    080 39451000, +91 8884038484   Casual Dining, Bar   \n",
       "467       False   2.5                    080 65951222   Casual Dining, Bar   \n",
       "468        True   4.3                    080 49652769                  Bar   \n",
       "\n",
       "                                            dish_liked          city  \n",
       "0    Pasta, Lunch Buffet, Masala Papad, Paneer Laja...  Banashankari  \n",
       "1    Momos, Lunch Buffet, Chocolate Nirvana, Thai G...  Banashankari  \n",
       "2    Churros, Cannelloni, Minestrone Soup, Hot Choc...  Banashankari  \n",
       "3                                          Masala Dosa  Banashankari  \n",
       "4                                  Panipuri, Gol Gappe  Banashankari  \n",
       "..                                                 ...           ...  \n",
       "464  Beer, Chicken Guntur, Paneer Tikka, Fish, Nood...    Whitefield  \n",
       "465                                   Rooftop Ambience    Whitefield  \n",
       "466  Salads, Coffee, Breakfast Buffet, Halwa, Chick...    Whitefield  \n",
       "467                               Biryani, Andhra Meal    Whitefield  \n",
       "468                       Cocktails, Pizza, Buttermilk    Whitefield  \n",
       "\n",
       "[469 rows x 8 columns]"
      ]
     },
     "execution_count": 31,
     "metadata": {},
     "output_type": "execute_result"
    }
   ],
   "source": [
    "zomato"
   ]
  },
  {
   "cell_type": "markdown",
   "metadata": {},
   "source": [
    "## Data Visualization"
   ]
  },
  {
   "cell_type": "code",
   "execution_count": 32,
   "metadata": {},
   "outputs": [
    {
     "data": {
      "text/plain": [
       "Text(0.5, 1.0, 'Restaurants delivering online or Not')"
      ]
     },
     "execution_count": 32,
     "metadata": {},
     "output_type": "execute_result"
    },
    {
     "data": {
      "image/png": "[encoded data removed]",
      "text/plain": [
       "<Figure size 432x288 with 1 Axes>"
      ]
     },
     "metadata": {
      "needs_background": "light"
     },
     "output_type": "display_data"
    }
   ],
   "source": [
    "# Restaurants delivering Online or not\n",
    "sns.countplot(zomato['online_order'])\n",
    "plt.title('Restaurants delivering online or Not')"
   ]
  },
  {
   "cell_type": "code",
   "execution_count": 33,
   "metadata": {},
   "outputs": [
    {
     "data": {
      "text/plain": [
       "Text(0.5, 1.0, 'Restaurants allowing table booking or not')"
      ]
     },
     "execution_count": 33,
     "metadata": {},
     "output_type": "execute_result"
    },
    {
     "data": {
      "image/png": "[encoded data removed]",
      "text/plain": [
       "<Figure size 432x288 with 1 Axes>"
      ]
     },
     "metadata": {
      "needs_background": "light"
     },
     "output_type": "display_data"
    }
   ],
   "source": [
    "# Restaurants allowing table booking or not\n",
    "sns.countplot(zomato['book_table'])\n",
    "plt.title('Restaurants allowing table booking or not')"
   ]
  },
  {
   "cell_type": "code",
   "execution_count": 34,
   "metadata": {},
   "outputs": [
    {
     "data": {
      "text/plain": [
       "Text(0.5, 1.0, 'NO. of restaurants in a Location')"
      ]
     },
     "execution_count": 34,
     "metadata": {},
     "output_type": "execute_result"
    },
    {
     "data": {
      "image/png": "[encoded data removed]",
      "text/plain": [
       "<Figure size 1440x504 with 1 Axes>"
      ]
     },
     "metadata": {
      "needs_background": "light"
     },
     "output_type": "display_data"
    }
   ],
   "source": [
    "# NO. of restaurants in a Location',\n",
    "fig = plt.figure(figsize=(20,7))\n",
    "loc = sns.countplot(x=\"city\",data=zomato)\n",
    "loc.set_xticklabels(loc.get_xticklabels(), rotation=90)\n",
    "plt.ylabel(\"City\")\n",
    "plt.xlabel(\"Location\")\n",
    "loc\n",
    "plt.title('NO. of restaurants in a Location')"
   ]
  },
  {
   "cell_type": "code",
   "execution_count": 35,
   "metadata": {},
   "outputs": [
    {
     "data": {
      "text/plain": [
       "Text(0.5, 1.0, 'Restaurant types')"
      ]
     },
     "execution_count": 35,
     "metadata": {},
     "output_type": "execute_result"
    },
    {
     "data": {
      "image/png": "[encoded data removed]",
      "text/plain": [
       "<Figure size 1224x360 with 1 Axes>"
      ]
     },
     "metadata": {
      "needs_background": "light"
     },
     "output_type": "display_data"
    }
   ],
   "source": [
    "# Restaurant type\n",
    "fig = plt.figure(figsize=(17,5))\n",
    "rest = sns.countplot(x=\"rest_type\",data=zomato)\n",
    "rest.set_xticklabels(rest.get_xticklabels(), rotation=90)\n",
    "plt.ylabel(\"Frequency\")\n",
    "plt.xlabel(\"Restaurant type\")\n",
    "rest \n",
    "plt.title('Restaurant types')"
   ]
  },
  {
   "cell_type": "markdown",
   "metadata": {},
   "source": [
    "## Data Search"
   ]
  },
  {
   "cell_type": "code",
   "execution_count": 36,
   "metadata": {},
   "outputs": [],
   "source": [
    "# Searching the best suitable restaurant as per ratings, location, online order\n",
    "def best_rest(r_location):\n",
    "    list_of_cities = zomato.city.to_list()\n",
    "    if r_location in list_of_cities:\n",
    "        # Restaurants available in the location specifies\n",
    "        zomato_order = zomato.loc[zomato['city'] == r_location]\n",
    "    \n",
    "        # Restaurants in the city which allows online orders\n",
    "        zomato_order = zomato_order.loc[zomato_order['online_order'] == True]\n",
    "        \n",
    "        if zomato_order.empty:\n",
    "            print(\"Sorry for inconvenience!! No restaurants are available for online-order\")\n",
    "        else:\n",
    "            # Best rated restaurants in the city which allows online orders\n",
    "            zomato_order = zomato_order.loc[zomato_order['rate'] == zomato_order.rate.max()]\n",
    "            \n",
    "            count = 1\n",
    "            print(\"Details of best rated restaurant/s available for online-ordering are:\")\n",
    "            for restaurant_name in zomato_order.name.unique():\n",
    "                data = zomato.loc[zomato.name == restaurant_name]\n",
    "                print(count)\n",
    "                print(\"Name :\",restaurant_name)\n",
    "                print(\"Type :\",data.rest_type.unique())\n",
    "                print(\"Contact No :\",data.phone.unique())\n",
    "                print(\"Dish :\",data.dish_liked.unique())\n",
    "                count += 1\n",
    "                \n",
    "    \n",
    "    else:\n",
    "        print(\"Sorry for inconvenience!! No restaurants are available in this city\")\n",
    "        \n",
    "    \n"
   ]
  },
  {
   "cell_type": "code",
   "execution_count": 37,
   "metadata": {},
   "outputs": [
    {
     "name": "stdout",
     "output_type": "stream",
     "text": [
      "List of the citites in Bangalore : \n",
      "1 Banashankari\n",
      "2 Bannerghatta Road\n",
      "3 Basavanagudi\n",
      "4 Bellandur\n",
      "5 Brigade Road\n",
      "6 Brookefield\n",
      "7 BTM\n",
      "8 Church Street\n",
      "9 Electronic City\n",
      "10 Frazer Town\n",
      "11 HSR\n",
      "12 Indiranagar\n",
      "13 Jayanagar\n",
      "14 JP Nagar\n",
      "15 Kalyan Nagar\n",
      "16 Kammanahalli\n",
      "17 Koramangala 4th Block\n",
      "18 Koramangala 5th Block\n",
      "19 Koramangala 6th Block\n",
      "20 Koramangala 7th Block\n",
      "21 Lavelle Road\n",
      "22 Malleshwaram\n",
      "23 Marathahalli\n",
      "24 MG Road\n",
      "25 New BEL Road\n",
      "26 Old Airport Road\n",
      "27 Rajajinagar\n",
      "28 Residency Road\n",
      "29 Sarjapur Road\n",
      "30 Whitefield\n"
     ]
    }
   ],
   "source": [
    "# List of cities in Bangalore\n",
    "print(\"List of the citites in Bangalore : \")\n",
    "count = 1\n",
    "for city in zomato.city.unique():\n",
    "    print(count,city)\n",
    "    count += 1\n",
    "    "
   ]
  },
  {
   "cell_type": "code",
   "execution_count": 38,
   "metadata": {},
   "outputs": [
    {
     "name": "stdout",
     "output_type": "stream",
     "text": [
      "Enter your city in bangalore : JP Nagar\n",
      "Details of best rated restaurant/s available for online-ordering are:\n",
      "1\n",
      "Name : 24Th Main\n",
      "Type : ['Casual Dining']\n",
      "Contact No : ['080 41477977, 080 41488988']\n",
      "Dish : ['Hummus Falafel, Gulab Jamun, Shawarma, Bbq Chicken, Mojito, Chicken Biryani, Manchow Soup']\n"
     ]
    }
   ],
   "source": [
    "city = input(\"Enter your city in bangalore : \")\n",
    "best_rest(city)"
   ]
  },
  {
   "cell_type": "code",
   "execution_count": null,
   "metadata": {},
   "outputs": [],
   "source": []
  }
 ],
 "metadata": {
  "kernelspec": {
   "display_name": "Python 3",
   "language": "python",
   "name": "python3"
  },
  "language_info": {
   "codemirror_mode": {
    "name": "ipython",
    "version": 3
   },
   "file_extension": ".py",
   "mimetype": "text/x-python",
   "name": "python",
   "nbconvert_exporter": "python",
   "pygments_lexer": "ipython3",
   "version": "3.8.5"
  }
 },
 "nbformat": 4,
 "nbformat_minor": 4
}
